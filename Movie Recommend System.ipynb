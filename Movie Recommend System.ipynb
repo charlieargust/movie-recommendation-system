{
 "cells": [
  {
   "cell_type": "markdown",
   "id": "06a8a361",
   "metadata": {},
   "source": [
    "# Movie Recommendation System"
   ]
  },
  {
   "cell_type": "markdown",
   "id": "99eff74b",
   "metadata": {
    "heading_collapsed": true
   },
   "source": [
    "## import libraries & read in data"
   ]
  },
  {
   "cell_type": "code",
   "execution_count": 1,
   "id": "2420fd30",
   "metadata": {
    "hidden": true
   },
   "outputs": [],
   "source": [
    "import pandas as pd\n",
    "import numpy as np\n",
    "from sklearn.metrics.pairwise import cosine_similarity\n",
    "from sklearn.preprocessing import MinMaxScaler\n",
    "import math\n",
    "import collections"
   ]
  },
  {
   "cell_type": "code",
   "execution_count": 2,
   "id": "9fb2b25f",
   "metadata": {
    "hidden": true
   },
   "outputs": [],
   "source": [
    "movies = pd.read_csv(\"movie.csv\")\n",
    "ratings = pd.read_csv(\"rating.csv\")"
   ]
  },
  {
   "cell_type": "markdown",
   "id": "13288232",
   "metadata": {
    "heading_collapsed": true
   },
   "source": [
    "## Data Transformation"
   ]
  },
  {
   "cell_type": "markdown",
   "id": "642b7424",
   "metadata": {
    "hidden": true
   },
   "source": [
    "### Normalizing User Ratings - Subtract Mean"
   ]
  },
  {
   "cell_type": "code",
   "execution_count": 3,
   "id": "69dfeb87",
   "metadata": {
    "hidden": true
   },
   "outputs": [],
   "source": [
    "user_stats = ratings.groupby('userId')['rating'].agg(['mean'])\n",
    "\n",
    "ratings = pd.merge(ratings, user_stats, left_on='userId', right_index = True)\n",
    "\n",
    "ratings = ratings.assign(norm_rating = lambda x: (x['rating'] - x['mean']))\n",
    "ratings.drop(columns = ['mean'], inplace = True)"
   ]
  },
  {
   "cell_type": "markdown",
   "id": "c779a098",
   "metadata": {
    "hidden": true
   },
   "source": [
    "### One Hot Encode Genres\n",
    "##### 27,278 unique movies"
   ]
  },
  {
   "cell_type": "code",
   "execution_count": 4,
   "id": "cadf479a",
   "metadata": {
    "hidden": true,
    "scrolled": true
   },
   "outputs": [],
   "source": [
    "movies['genres'] = movies['genres'].apply(lambda x: x.split(\"|\"))\n",
    "movies.head()\n",
    "\n",
    "exploded_genres = movies['genres'].apply(pd.Series).stack().reset_index(level=1, drop=True)\n",
    "\n",
    "# one hot encode\n",
    "one_hot_encoded = pd.get_dummies(exploded_genres).groupby(level=0).sum()\n",
    "\n",
    "# join dataframe\n",
    "movies_encoded = pd.concat([movies.drop(columns=['genres']), one_hot_encoded], axis=1)"
   ]
  },
  {
   "cell_type": "code",
   "execution_count": 5,
   "id": "72bdd67f",
   "metadata": {
    "hidden": true
   },
   "outputs": [],
   "source": [
    "movies_with_genres = pd.merge(ratings[['userId', 'movieId', 'rating', 'norm_rating']], movies_encoded, left_on='movieId', right_index = True)"
   ]
  },
  {
   "cell_type": "markdown",
   "id": "ba533149",
   "metadata": {
    "hidden": true
   },
   "source": [
    "### User-Genre Profiles"
   ]
  },
  {
   "cell_type": "code",
   "execution_count": 6,
   "id": "f4a39deb",
   "metadata": {
    "hidden": true,
    "scrolled": true
   },
   "outputs": [],
   "source": [
    "# extract userID and the genre cols\n",
    "users_genre_counts = movies_with_genres.iloc[:, [1]]  \n",
    "users_genre_counts = pd.concat([users_genre_counts, movies_with_genres.iloc[:, 6:]], axis=1)\n",
    "\n",
    "# group by userID to get the total genres each user has watched\n",
    "users_genres = users_genre_counts.groupby('userId').sum(numeric_only = True)\n",
    "\n",
    "# add total column\n",
    "users_genres['Total'] = ratings.groupby('userId')['movieId'].count()\n",
    "\n",
    "# filter for only users that have rated at least 100 movies\n",
    "users_genres_filtered = users_genres[users_genres['Total'] > 100]"
   ]
  },
  {
   "cell_type": "markdown",
   "id": "539610c0",
   "metadata": {
    "heading_collapsed": true
   },
   "source": [
    "## Create Genre Scores"
   ]
  },
  {
   "cell_type": "markdown",
   "id": "c96c3630",
   "metadata": {
    "hidden": true
   },
   "source": [
    "### TF.IDF - Frequency of Genre * Frequency of that Genre in all Movies\n",
    "#### scaled from 0 to 1"
   ]
  },
  {
   "cell_type": "code",
   "execution_count": null,
   "id": "baf7ffe7",
   "metadata": {
    "hidden": true
   },
   "outputs": [],
   "source": [
    "not_genre = movies_encoded[['movieId', 'title']]\n",
    "genres_only = movies_encoded.drop(columns=not_genre.columns)\n",
    "genre_counts = genres_only.sum()"
   ]
  },
  {
   "cell_type": "code",
   "execution_count": 8,
   "id": "7b405025",
   "metadata": {
    "hidden": true
   },
   "outputs": [],
   "source": [
    "def _inverse_genre_freqs():\n",
    "    igf_array = np.zeros(len(genre_counts))\n",
    "    movie_count = movies['movieId'].nunique()\n",
    "\n",
    "    for i, value in enumerate(genre_counts.values):\n",
    "      igf_array[i] = math.log2(movie_count/value)\n",
    "\n",
    "    return igf_array"
   ]
  },
  {
   "cell_type": "code",
   "execution_count": 9,
   "id": "e153c04f",
   "metadata": {
    "hidden": true
   },
   "outputs": [],
   "source": [
    "def create_genre_scores(genre_counts):\n",
    "    igf_array = _inverse_genre_freqs()\n",
    "    genres_matrix = genre_counts.iloc[:, :-1].to_numpy()\n",
    "    \n",
    "    uf_igf = genres_matrix * igf_array\n",
    "    \n",
    "    scaler = MinMaxScaler()\n",
    "\n",
    "    scaled_genre_scores = np.vstack([scaler.fit_transform(row.reshape(-1, 1)).flatten() for row in uf_igf])\n",
    "\n",
    "    return scaled_genre_scores"
   ]
  },
  {
   "cell_type": "markdown",
   "id": "033a5940",
   "metadata": {
    "heading_collapsed": true
   },
   "source": [
    "## Find Similar Users"
   ]
  },
  {
   "cell_type": "code",
   "execution_count": 10,
   "id": "e277ad58",
   "metadata": {
    "hidden": true
   },
   "outputs": [],
   "source": [
    "# in the case where we are trying to recommend someone with < 100 movies watched\n",
    "def _create_scores_for_new_user(userID):\n",
    "    genre_score = create_genre_scores(users_genres[users_genres.index == userID])\n",
    "    return genre_score"
   ]
  },
  {
   "cell_type": "code",
   "execution_count": 11,
   "id": "a83cb8fd",
   "metadata": {
    "hidden": true
   },
   "outputs": [],
   "source": [
    "def find_similar_users(userID, genre_scores):\n",
    "    index = np.where(users_genres.index == userID)\n",
    "    \n",
    "    user_array = _create_scores_for_new_user(userID)\n",
    "    \n",
    "    user_array = user_array.reshape(1, -1)\n",
    "    \n",
    "    cos_similarities = []\n",
    "    cosine = {}\n",
    "    for index, row in enumerate(genre_scores):\n",
    "        row = row.reshape(1, -1)\n",
    "        cos_sim = cosine_similarity(user_array, row) \n",
    "        cosine[cos_sim[0][0]] = index\n",
    "        \n",
    "    sorted_users = sorted(cosine.items(), reverse = True)\n",
    "    \n",
    "    selected_cols = movies_with_genres[['userId', 'movieId', 'norm_rating']]\n",
    "    current_user = selected_cols[selected_cols['userId'] == userID]\n",
    "    \n",
    "    selected_cols = selected_cols[selected_cols['userId'].isin([user[1] for user in sorted_users[:10]])]\n",
    "        \n",
    "    return selected_cols.append(current_user)"
   ]
  },
  {
   "cell_type": "markdown",
   "id": "146537c6",
   "metadata": {
    "heading_collapsed": true
   },
   "source": [
    "## Find movies similar users liked"
   ]
  },
  {
   "cell_type": "markdown",
   "id": "4a5561a9",
   "metadata": {
    "hidden": true
   },
   "source": [
    "### extract the user's favorite movies (rating > 0)\n",
    "### extract the movies that user has not watched"
   ]
  },
  {
   "cell_type": "code",
   "execution_count": 12,
   "id": "48b829d3",
   "metadata": {
    "hidden": true
   },
   "outputs": [],
   "source": [
    "def _find_user_favorite_movies(userID, matrix):\n",
    "    user_movies = matrix[userID]\n",
    "    fave_movies = user_movies[user_movies.values > 0.0].sort_values(ascending = False)\n",
    "    return fave_movies.index.values"
   ]
  },
  {
   "cell_type": "code",
   "execution_count": 13,
   "id": "069bd180",
   "metadata": {
    "hidden": true
   },
   "outputs": [],
   "source": [
    "def _find_unwatched(userID, matrix):\n",
    "    unwatched_indexes = matrix.index[matrix[userID].isnull()]\n",
    "    return unwatched_indexes.values"
   ]
  },
  {
   "cell_type": "markdown",
   "id": "b6eaa4bd",
   "metadata": {
    "hidden": true
   },
   "source": [
    "### Find the most similar movies (that the user hasn't watched) to movies that the user likes"
   ]
  },
  {
   "cell_type": "code",
   "execution_count": 14,
   "id": "4def2edc",
   "metadata": {
    "hidden": true
   },
   "outputs": [],
   "source": [
    "def find_sim_movies_to_favorites(userID, matrix):\n",
    "    user_fave = _find_user_favorite_movies(userID, matrix)\n",
    "    user_unwatched = _find_unwatched(userID, matrix)\n",
    "    \n",
    "    matrix.fillna(0, inplace = True)\n",
    "   \n",
    "    sim_scores = {}\n",
    "\n",
    "    for movie in user_fave:\n",
    "        for unwatched_movie in user_unwatched:\n",
    "            cosine_sim = cosine_similarity(matrix.loc[movie].values.reshape(1, -1),\n",
    "                                          matrix.loc[unwatched_movie].values.reshape(1,-1))\n",
    "            if cosine_sim[0][0] > 0:\n",
    "                sim_scores[cosine_sim[0][0]] = (movie, unwatched_movie)\n",
    "                \n",
    "    return collections.OrderedDict(sorted(sim_scores.items(), reverse = True))"
   ]
  },
  {
   "cell_type": "markdown",
   "id": "95b970a9",
   "metadata": {
    "heading_collapsed": true
   },
   "source": [
    "## Predict Ratings"
   ]
  },
  {
   "cell_type": "markdown",
   "id": "74ce3af2",
   "metadata": {
    "hidden": true
   },
   "source": [
    "##### un-normalize ratings so we can display 1-5 predicted rating scale "
   ]
  },
  {
   "cell_type": "code",
   "execution_count": 15,
   "id": "715ac406",
   "metadata": {
    "hidden": true
   },
   "outputs": [],
   "source": [
    "def return_to_norm_ratings(matrix):\n",
    "    for col in matrix.columns:\n",
    "        condition = (matrix[col] != 0)\n",
    "        mean_val = user_stats[user_stats.index == col].values[0][0]\n",
    "        matrix.loc[condition, col] += mean_val\n",
    "    return matrix"
   ]
  },
  {
   "cell_type": "markdown",
   "id": "7fc3f9fc",
   "metadata": {
    "hidden": true
   },
   "source": [
    "##### find how the user's rating compares to the other similar users on average\n",
    "##### find the average rating of a given movie by similar users\n",
    "**predicted rating will be the movie's average rating + the user's relative rating scale**"
   ]
  },
  {
   "cell_type": "code",
   "execution_count": 16,
   "id": "ca4e09ad",
   "metadata": {
    "hidden": true
   },
   "outputs": [],
   "source": [
    "def predict_rating(userID, movieID, global_mean, matrix):\n",
    "    rel_rating = user_stats[user_stats.index == userID] - global_mean\n",
    "    \n",
    "    predicted_rating = rel_rating + matrix.loc[movieID]['mean']\n",
    "    predicted_rating = predicted_rating.values[0][0]\n",
    "    \n",
    "    if predicted_rating > 5:\n",
    "        predicted_rating = 5\n",
    "        \n",
    "    return predicted_rating"
   ]
  },
  {
   "cell_type": "markdown",
   "id": "7f3f38d2",
   "metadata": {
    "heading_collapsed": true
   },
   "source": [
    "## Function to print the movies that we predict the user would give the highest rating"
   ]
  },
  {
   "cell_type": "code",
   "execution_count": 17,
   "id": "5f2a5784",
   "metadata": {
    "hidden": true
   },
   "outputs": [],
   "source": [
    "def print_recommendations(n, sorted_predictions):\n",
    "    for i in list(sorted_predictions.keys())[:n]:\n",
    "        print(sorted_predictions[i][0], end = '')\n",
    "        print(f', Predicted Rating: {i:.2f}')"
   ]
  },
  {
   "cell_type": "markdown",
   "id": "942a6807",
   "metadata": {},
   "source": [
    "## Recommendation Function"
   ]
  },
  {
   "cell_type": "code",
   "execution_count": 21,
   "id": "c821760d",
   "metadata": {},
   "outputs": [],
   "source": [
    "def recommend(userID, n, genre_scores):\n",
    "    # create utility matrix w/ user and similar users\n",
    "    selected_cols = find_similar_users(userID, genre_scores)\n",
    "    matrix = selected_cols.pivot_table(index='movieId',columns='userId', values='norm_rating')\n",
    "    \n",
    "    # filter for movies that more than one similar user has rated\n",
    "    non_nan = matrix.notna().sum(axis = 1)\n",
    "    matrix = matrix[non_nan > 1]\n",
    "    \n",
    "    most_sim_movies = find_sim_movies_to_favorites(userID, matrix)\n",
    "    \n",
    "    # un-normalize the ratings\n",
    "    matrix = return_to_norm_ratings(matrix)\n",
    "    \n",
    "    # calculate each movie's average rating\n",
    "    row_mean = matrix[matrix != 0.0].mean(axis = 1)\n",
    "    matrix['mean'] = row_mean\n",
    "    \n",
    "    # find each user's relative rating scale\n",
    "    global_mean = user_stats[user_stats.index.isin(matrix.columns)].values.mean()\n",
    "    \n",
    "    predictions = {}\n",
    "    reco_array = np.array([])\n",
    "\n",
    "    for unwatched_movie in most_sim_movies:\n",
    "        reco = most_sim_movies[unwatched_movie][1]\n",
    "        reco_array = np.append(reco_array, reco)\n",
    "\n",
    "    for recommendation in reco_array:\n",
    "        predictions[predict_rating(userID, recommendation, global_mean, matrix)] = movies[movies['movieId'] == recommendation]['title'].values\n",
    "        \n",
    "    sorted_predictions = collections.OrderedDict(sorted(predictions.items(), reverse = True))\n",
    "\n",
    "    print_recommendations(n, sorted_predictions)\n",
    "      \n",
    "    return sorted_predictions"
   ]
  },
  {
   "cell_type": "markdown",
   "id": "e61397c6",
   "metadata": {},
   "source": [
    "## main - create genre scores and recommend different users"
   ]
  },
  {
   "cell_type": "code",
   "execution_count": 19,
   "id": "f8e6bc7b",
   "metadata": {},
   "outputs": [],
   "source": [
    "genre_scores = create_genre_scores(users_genres_filtered)"
   ]
  },
  {
   "cell_type": "code",
   "execution_count": 22,
   "id": "26d4e64a",
   "metadata": {},
   "outputs": [
    {
     "name": "stderr",
     "output_type": "stream",
     "text": [
      "C:\\Users\\charl\\AppData\\Local\\Temp\\ipykernel_13612\\3770644544.py:22: FutureWarning: The frame.append method is deprecated and will be removed from pandas in a future version. Use pandas.concat instead.\n",
      "  return selected_cols.append(current_user)\n"
     ]
    },
    {
     "name": "stdout",
     "output_type": "stream",
     "text": [
      "2001: A Space Odyssey (1968), Predicted Rating: 5.00\n",
      "Godfather, The (1972), Predicted Rating: 4.91\n",
      "Wonder Boys (2000), Predicted Rating: 4.78\n",
      "Matrix, The (1999), Predicted Rating: 4.66\n",
      "Shrek (2001), Predicted Rating: 4.58\n",
      "Sixth Sense, The (1999), Predicted Rating: 4.53\n",
      "Seven (a.k.a. Se7en) (1995), Predicted Rating: 4.45\n",
      "Lord of the Rings: The Two Towers, The (2002), Predicted Rating: 4.41\n",
      "One Flew Over the Cuckoo's Nest (1975), Predicted Rating: 4.28\n",
      "Minority Report (2002), Predicted Rating: 4.16\n"
     ]
    }
   ],
   "source": [
    "recommendations = recommend(100, 10, genre_scores)"
   ]
  },
  {
   "cell_type": "code",
   "execution_count": 23,
   "id": "0f7fd3fd",
   "metadata": {},
   "outputs": [
    {
     "data": {
      "text/plain": [
       "OrderedDict([(5, array(['2001: A Space Odyssey (1968)'], dtype=object)),\n",
       "             (4.90884116690974,\n",
       "              array(['Godfather, The (1972)'], dtype=object)),\n",
       "             (4.78384116690974, array(['Wonder Boys (2000)'], dtype=object)),\n",
       "             (4.65884116690974, array(['Matrix, The (1999)'], dtype=object)),\n",
       "             (4.583841166909739, array(['Shrek (2001)'], dtype=object)),\n",
       "             (4.53384116690974,\n",
       "              array(['Sixth Sense, The (1999)'], dtype=object)),\n",
       "             (4.450507833576406,\n",
       "              array(['Seven (a.k.a. Se7en) (1995)'], dtype=object)),\n",
       "             (4.40884116690974,\n",
       "              array(['Lord of the Rings: The Two Towers, The (2002)'], dtype=object)),\n",
       "             (4.28384116690974,\n",
       "              array([\"One Flew Over the Cuckoo's Nest (1975)\"], dtype=object)),\n",
       "             (4.15884116690974,\n",
       "              array(['Minority Report (2002)'], dtype=object)),\n",
       "             (4.117174500243073, array(['Alien (1979)'], dtype=object)),\n",
       "             (4.03384116690974,\n",
       "              array(['Back to the Future Part II (1989)'], dtype=object)),\n",
       "             (3.950507833576406,\n",
       "              array(['Good Will Hunting (1997)'], dtype=object)),\n",
       "             (3.9088411669097396,\n",
       "              array(['Kill Bill: Vol. 1 (2003)'], dtype=object)),\n",
       "             (3.7838411669097396, array(['Toy Story (1995)'], dtype=object)),\n",
       "             (3.6588411669097396,\n",
       "              array(['Clockwork Orange, A (1971)'], dtype=object)),\n",
       "             (3.617174500243073,\n",
       "              array(['Star Trek: First Contact (1996)'], dtype=object)),\n",
       "             (3.5338411669097396, array(['Twister (1996)'], dtype=object)),\n",
       "             (3.450507833576406, array(['Rain Man (1988)'], dtype=object)),\n",
       "             (3.2838411669097396, array(['Stargate (1994)'], dtype=object)),\n",
       "             (3.1588411669097396, array(['Mask, The (1994)'], dtype=object)),\n",
       "             (3.117174500243073,\n",
       "              array([\"Ocean's Eleven (2001)\"], dtype=object)),\n",
       "             (3.0338411669097396, array(['Craft, The (1996)'], dtype=object)),\n",
       "             (2.7838411669097396,\n",
       "              array(['101 Dalmatians (1996)'], dtype=object)),\n",
       "             (2.617174500243073,\n",
       "              array(['Mission: Impossible (1996)'], dtype=object)),\n",
       "             (2.5338411669097396, array(['Tremors (1990)'], dtype=object)),\n",
       "             (2.2838411669097396,\n",
       "              array(['First Wives Club, The (1996)'], dtype=object)),\n",
       "             (2.0338411669097396, array(['Spy Kids (2001)'], dtype=object)),\n",
       "             (1.7838411669097396, array(['Species II (1998)'], dtype=object)),\n",
       "             (1.5338411669097396,\n",
       "              array(['Flintstones, The (1994)'], dtype=object)),\n",
       "             (1.2838411669097396, array(['Barb Wire (1996)'], dtype=object)),\n",
       "             (1.0338411669097396,\n",
       "              array(['Me, Myself & Irene (2000)'], dtype=object))])"
      ]
     },
     "execution_count": 23,
     "metadata": {},
     "output_type": "execute_result"
    }
   ],
   "source": [
    "recommendations"
   ]
  }
 ],
 "metadata": {
  "kernelspec": {
   "display_name": "Python 3 (ipykernel)",
   "language": "python",
   "name": "python3"
  },
  "language_info": {
   "codemirror_mode": {
    "name": "ipython",
    "version": 3
   },
   "file_extension": ".py",
   "mimetype": "text/x-python",
   "name": "python",
   "nbconvert_exporter": "python",
   "pygments_lexer": "ipython3",
   "version": "3.11.4"
  }
 },
 "nbformat": 4,
 "nbformat_minor": 5
}
